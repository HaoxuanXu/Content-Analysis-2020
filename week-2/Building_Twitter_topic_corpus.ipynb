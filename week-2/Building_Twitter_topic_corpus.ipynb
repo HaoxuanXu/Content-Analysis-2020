{
 "cells": [
  {
   "cell_type": "code",
   "execution_count": 65,
   "metadata": {},
   "outputs": [],
   "source": [
    "import tweepy\n",
    "import re\n",
    "import pandas as pd"
   ]
  },
  {
   "cell_type": "code",
   "execution_count": 92,
   "metadata": {},
   "outputs": [],
   "source": [
    "pd.set_option('display.max_rows', 500)\n",
    "pd.set_option('display.max_columns', 500)\n",
    "pd.set_option('display.width', 1000)"
   ]
  },
  {
   "cell_type": "code",
   "execution_count": 4,
   "metadata": {},
   "outputs": [],
   "source": [
    "consumer_key = \"yM3YdH8RJ39Z7hYtqNiKrcEcv\"\n",
    "consumer_secret = \"PE3uTtKrOgrOuVoFQHJJEjlK97UZc1BIMcRoSKKHjjHeMvOqwk\"\n",
    "access_token = \"1219775097285771265-9b7EzoLswfO0wzc7d7vCPks00iIKzQ\"\n",
    "access_token_secret = \"omildXBtA03IDfxZveAsZXQZPsMCBQhEtdXh4D7oMUBg9\""
   ]
  },
  {
   "cell_type": "code",
   "execution_count": 5,
   "metadata": {},
   "outputs": [],
   "source": [
    "auth = tweepy.OAuthHandler(consumer_key, consumer_secret)\n",
    "auth.set_access_token(access_token, access_token_secret)\n",
    "api = tweepy.API(auth,wait_on_rate_limit=True)"
   ]
  },
  {
   "cell_type": "code",
   "execution_count": 126,
   "metadata": {},
   "outputs": [],
   "source": [
    "tweets_list = []\n",
    "text_query = 'climate change'\n",
    "count = 50\n",
    "try:\n",
    "# Pulling individual tweets from query\n",
    "    for tweet in api.search(q=text_query, count=count):\n",
    "# Adding to list that contains all tweets\n",
    "      tweets_list.append((tweet.text))\n",
    "except BaseException as e:\n",
    "    print('failed on_status,',str(e))\n",
    "    time.sleep(3)"
   ]
  },
  {
   "cell_type": "code",
   "execution_count": 127,
   "metadata": {},
   "outputs": [],
   "source": [
    "tweets_pd = pd.DataFrame(tweets_list, columns = ['tweet'])"
   ]
  },
  {
   "cell_type": "code",
   "execution_count": 128,
   "metadata": {},
   "outputs": [
    {
     "data": {
      "text/plain": [
       "0     RT @lifeadvice_4you: when you think your dog i...\n",
       "1     RT @aldatweets: “Key climate-change and energy...\n",
       "2     RT @MarkFriesen08: Not only can we not send re...\n",
       "3     RT @spikedonline: “It’s ridiculous to say the ...\n",
       "4     @TyotoRiffle @MesiaArte @PerspicaciousXY @RedA...\n",
       "5     RT @lifeadvice_4you: when you think your dog i...\n",
       "6     RT @TomTSEC: Poll Finds Most People Would Rath...\n",
       "7     RT @BernieSanders: Making health care a right....\n",
       "8     RT @RepDanCrenshaw: The American people should...\n",
       "9     RT @lifeadvice_4you: when you think your dog i...\n",
       "10    RT @1RossGittins: If we pretend it's not happe...\n",
       "11    RT @BernieSanders: Making health care a right....\n",
       "12    RT @lifeadvice_4you: when you think your dog i...\n",
       "13    How is the world gonna end? \\nBy nuclear war? ...\n",
       "14    I don't deny climate change exists. We've been...\n",
       "15    “Tim Eggar, chairman of the UK’s Oil and Gas A...\n",
       "16    RT @abbeludwig: Climate activist Greta Thunber...\n",
       "17    RT @ABC: Spain’s new government has declared a...\n",
       "18    RT @rituparnasarm10: Yes definitely already Cl...\n",
       "19    RT @colinkorolppc: I guess the carbon tax, str...\n",
       "20    RT @GreatLakesPeck: So let's all work to make ...\n",
       "21    @HillaryClinton I wish you would use your cons...\n",
       "22    RT @csinut1: Not the USAs fault.  We dont beli...\n",
       "23    RT @zozzer1966: I travel 70 along the princes ...\n",
       "24    RT @RepDanCrenshaw: The American people should...\n",
       "25    RT @UNEP: As a global community we must take #...\n",
       "26    12. Has experience AND age - old people are ol...\n",
       "27    RT @ICRC: Millennials fear nuclear war.\\nMille...\n",
       "28    RT @BernieSanders: Making health care a right....\n",
       "29    RT @Oxford100: Sky really does not get it! Sam...\n",
       "30    RT @lifeadvice_4you: when you think your dog i...\n",
       "31    Davos: Greta Thunberg &amp; Donald Trump clash...\n",
       "32    Go to the beach and see for yourself that ther...\n",
       "33    RT @RepDanCrenshaw: The American people should...\n",
       "34    @paulbrislen You'd think when you literally st...\n",
       "35    RT @JRWeaver55: @Smartsheila @zalisteggall Exa...\n",
       "36    RT @PlantBasedNews: Scientists say the platypu...\n",
       "37    RT @UNEP: #ClimateChange makes wildfires them ...\n",
       "38    異常気象は紛争のリスクとされる。しかし、実際はそんなに単純なものではなく、気候関連の農業収入...\n",
       "39    RT @RepDanCrenshaw: The American people should...\n",
       "40    RT @byHeatherLong: This is telling: \\nPretty m...\n",
       "41    RT @PaulEDawson: “This is what you can expect ...\n",
       "42    RT @stonecold2050: Idiot Trump today dismissed...\n",
       "43    @Aliciastarr001 @molon_labe1911 “Bernie strong...\n",
       "44    RT @Tony__Heller: Fascinating how the solution...\n",
       "45    Some SF restaurants to introduce climate chang...\n",
       "46    RT @SCMPNews: Singapore’s climate change puzzl...\n",
       "47    RT @AtlanticCouncil: While “Trump is right [th...\n",
       "48    RT @isaacwilliams: My friends and I got so mad...\n",
       "49    RT @SkyNewsAust: Former Labor Leader @billshor...\n",
       "Name: tweet, dtype: object"
      ]
     },
     "execution_count": 128,
     "metadata": {},
     "output_type": "execute_result"
    }
   ],
   "source": [
    "tweets_pd['tweet']"
   ]
  },
  {
   "cell_type": "code",
   "execution_count": 129,
   "metadata": {},
   "outputs": [],
   "source": [
    "tweets_pd.to_csv(\"climate_change.csv\")"
   ]
  },
  {
   "cell_type": "code",
   "execution_count": null,
   "metadata": {},
   "outputs": [],
   "source": []
  }
 ],
 "metadata": {
  "kernelspec": {
   "display_name": "Python 3",
   "language": "python",
   "name": "python3"
  },
  "language_info": {
   "codemirror_mode": {
    "name": "ipython",
    "version": 3
   },
   "file_extension": ".py",
   "mimetype": "text/x-python",
   "name": "python",
   "nbconvert_exporter": "python",
   "pygments_lexer": "ipython3",
   "version": "3.6.10"
  }
 },
 "nbformat": 4,
 "nbformat_minor": 2
}
